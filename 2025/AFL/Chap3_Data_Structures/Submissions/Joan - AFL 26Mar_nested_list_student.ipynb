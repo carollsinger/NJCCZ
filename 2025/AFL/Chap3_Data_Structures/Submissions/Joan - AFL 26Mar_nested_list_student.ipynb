{
 "cells": [
  {
   "cell_type": "markdown",
   "metadata": {},
   "source": [
    "Name your Jupyter Notebook as:\n",
    "\n",
    "`TASK1_<your name>.ipynb`\n",
    "\n",
    "The task is to process a square grid of integers (0-9) and identify patterns of 3 numbers that are consecutive (e.g. 012, 789)."
   ]
  },
  {
   "cell_type": "markdown",
   "metadata": {},
   "source": [
    "For instance, given the following square grid of 5 integers:\n",
    "\n",
    "![5 x 5 square grid](square_grid_highlighted.png \"5 x 5 square grid\")\n",
    "\n",
    "We can identify 2 sets of 3 integers that are consecutive (ascending or descending)."
   ]
  },
  {
   "cell_type": "markdown",
   "metadata": {},
   "source": [
    "For each of the sub-tasks, add a comment statement at the beginning of the code using the hash symbol ‘#’, to indicate the sub-task the program code belongs to, for example:"
   ]
  },
  {
   "cell_type": "markdown",
   "metadata": {},
   "source": [
    "> `#Task 1.1`\\\n",
    "> Program code"
   ]
  },
  {
   "cell_type": "markdown",
   "metadata": {},
   "source": [
    "## Task 1.1\n",
    "Create a 2-dimensional list `grid` where each row contains the integers of the sample square grid provided above."
   ]
  },
  {
   "cell_type": "code",
   "execution_count": 12,
   "metadata": {},
   "outputs": [],
   "source": [
    "#Task 1.1\n",
    "\n",
    "grid = [[6, 6, 8, 6, 7],\n",
    "        [0, 0, 3, 8, 0],\n",
    "        [6, 6, 6, 8, 6],\n",
    "        [9, 8, 7, 7, 9],\n",
    "        [4, 8, 8, 8, 3]]"
   ]
  },
  {
   "cell_type": "markdown",
   "metadata": {},
   "source": [
    "## Task 1.2\n",
    "Write program code that counts the total occurrences of three consecutive integers (either in ascending or descending order) that appear horizontally or vertically in the given square grid from Task 1.1.\n",
    "\n",
    "Output the result with an appropriate statement. Your program should work for a $n \\times n$ square grid as well.\n"
   ]
  },
  {
   "cell_type": "code",
   "execution_count": null,
   "metadata": {},
   "outputs": [
    {
     "name": "stdout",
     "output_type": "stream",
     "text": [
      "5\n"
     ]
    }
   ],
   "source": [
    "# Task 1.2\n",
    "\n",
    "grid = [[6, 1, 9, 8, 4],\n",
    "[5, 1, 8, 7, 6],\n",
    "[4, 8, 7, 2, 1],\n",
    "[5, 6, 6, 5, 2],\n",
    "[7, 0, 1, 2, 0]]\n",
    "\n",
    "grid_transpose = [grid[j][i] for i in range(len(grid)) for j in range(len(grid[0]))]\n",
    "\n",
    "def totalcount(grid):\n",
    "    def horizontal(grid):\n",
    "        count_horizontal = 0\n",
    "        for i in range(len(grid)):\n",
    "            for j in range(len(grid[i]) - 2):\n",
    "                if (grid[i][j] - grid[i][j+1] == 1 and grid[i][j+1] - grid[i][j+2] == 1) or \\\n",
    "                   (grid[i][j] - grid[i][j+1] == -1 and grid[i][j+1] - grid[i][j+2] == -1):\n",
    "                    count_horizontal +=1\n",
    "        return count_horizontal\n",
    "    \n",
    "    def vertical(grid):\n",
    "        count_vertical = 0\n",
    "        for i in range(len(grid) - 2):\n",
    "            for j in range(len(grid[i])):\n",
    "                if (grid[i][j] - grid[i+1][j] == 1 and grid[i+1][j] - grid[i+2][j] == 1) or \\\n",
    "                   (grid[i][j] - grid[i+1][j] == -1 and grid[i+1][j] - grid[i+2][j] == -1):\n",
    "                    count_vertical +=1\n",
    "        return count_vertical\n",
    "    \n",
    "    return (horizontal(grid) + vertical(grid))\n",
    "\n",
    "result = totalcount(grid)\n",
    "print(result)\n"
   ]
  },
  {
   "cell_type": "markdown",
   "metadata": {},
   "source": [
    "Test your program using the square grid below\n",
    "```python\n",
    "[6, 1, 9, 8, 4]\n",
    "[5, 1, 8, 7, 6]\n",
    "[4, 8, 7, 2, 1]\n",
    "[5, 6, 6, 5, 2]\n",
    "[7, 0, 1, 2, 0]\n",
    "```"
   ]
  }
 ],
 "metadata": {
  "kernelspec": {
   "display_name": "Python 3",
   "language": "python",
   "name": "python3"
  },
  "language_info": {
   "codemirror_mode": {
    "name": "ipython",
    "version": 3
   },
   "file_extension": ".py",
   "mimetype": "text/x-python",
   "name": "python",
   "nbconvert_exporter": "python",
   "pygments_lexer": "ipython3",
   "version": "3.11.0"
  }
 },
 "nbformat": 4,
 "nbformat_minor": 2
}
