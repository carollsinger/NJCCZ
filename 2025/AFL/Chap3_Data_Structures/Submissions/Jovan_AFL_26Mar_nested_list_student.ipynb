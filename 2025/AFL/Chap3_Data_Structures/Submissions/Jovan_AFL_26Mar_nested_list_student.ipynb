{
  "cells": [
    {
      "cell_type": "markdown",
      "metadata": {
        "id": "zaWBI_BfxGFb"
      },
      "source": [
        "Name your Jupyter Notebook as:\n",
        "\n",
        "`TASK1_<your name>.ipynb`\n",
        "\n",
        "The task is to process a square grid of integers (0-9) and identify patterns of 3 numbers that are consecutive (e.g. 012, 789)."
      ]
    },
    {
      "cell_type": "markdown",
      "metadata": {
        "id": "mEjbyt6WxGFb"
      },
      "source": [
        "For instance, given the following square grid of 5 integers:\n",
        "\n",
        "![5 x 5 square grid](square_grid_highlighted.png \"5 x 5 square grid\")\n",
        "\n",
        "We can identify 2 sets of 3 integers that are consecutive (ascending or descending)."
      ]
    },
    {
      "cell_type": "markdown",
      "metadata": {
        "id": "gbD6REyQxGFc"
      },
      "source": [
        "For each of the sub-tasks, add a comment statement at the beginning of the code using the hash symbol ‘#’, to indicate the sub-task the program code belongs to, for example:"
      ]
    },
    {
      "cell_type": "markdown",
      "metadata": {
        "id": "LaOaF87axGFc"
      },
      "source": [
        "> `#Task 1.1`\\\n",
        "> Program code"
      ]
    },
    {
      "cell_type": "markdown",
      "metadata": {
        "id": "T7oVJNONxGFc"
      },
      "source": [
        "## Task 1.1\n",
        "Create a 2-dimensional list `grid` where each row contains the integers of the sample square grid provided above."
      ]
    },
    {
      "cell_type": "code",
      "execution_count": null,
      "metadata": {
        "id": "OjNJocwmxGFc"
      },
      "outputs": [],
      "source": [
        "# Task 1.1\n",
        "grid = [[6, 6, 8, 6, 7],\n",
        "        [0, 0, 3, 8, 0],\n",
        "        [6, 6, 6, 8, 7],\n",
        "        [9, 8, 7, 7, 9],\n",
        "        [4, 8, 8, 8, 3],]"
      ]
    },
    {
      "cell_type": "markdown",
      "metadata": {
        "id": "NQ1vzRdRxGFc"
      },
      "source": [
        "## Task 1.2\n",
        "Write program code that counts the total occurrences of three consecutive integers (either in ascending or descending order) that appear horizontally or vertically in the given square grid from Task 1.1.\n",
        "\n",
        "Output the result with an appropriate statement. Your program should work for a $n \\times n$ square grid as well.\n"
      ]
    },
    {
      "cell_type": "code",
      "execution_count": 29,
      "metadata": {
        "colab": {
          "base_uri": "https://localhost:8080/"
        },
        "id": "_raUsskCxGFd",
        "outputId": "bd75f0e8-2f93-45a1-80a3-44c136bae03d"
      },
      "outputs": [
        {
          "name": "stdout",
          "output_type": "stream",
          "text": [
            "occurences of three consecutive integers (either in ascending or descending order) that appear horizontally or vertically in the given square grid is 5\n"
          ]
        }
      ],
      "source": [
        "grid2 = [[6, 1, 9, 8, 4],\n",
        "         [5, 1, 8, 7, 6],\n",
        "         [4, 8, 7, 2, 1],\n",
        "         [5, 6, 6, 5, 2],\n",
        "         [7, 0, 1, 2, 0]]\n",
        "occurences = 0\n",
        "for numbers in grid2:\n",
        "  try:\n",
        "    for i in range(len(numbers)):\n",
        "      if numbers[i] == numbers[i + 1] - 1 and numbers[i] == numbers[i + 2] - 2:\n",
        "        occurences += 1\n",
        "      elif numbers[i] == numbers[i + 1] + 1 and numbers[i] == numbers[i + 2] + 2:\n",
        "        occurences += 1\n",
        "  except:\n",
        "    print(\"\", end = \"\")\n",
        "for num2 in range(len(grid2)):\n",
        "  try:\n",
        "    for i in range(len(grid2[num2])):\n",
        "      if grid2[num2][i] == grid2[num2 + 1][i] - 1 and grid2[num2][i] == grid2[num2 + 2][i] - 2:\n",
        "        occurences += 1\n",
        "      elif grid2[num2][i] == grid2[num2 + 1][i] + 1 and grid2[num2][i] == grid2[num2 + 2][i] + 2:\n",
        "        occurences += 1\n",
        "  except:\n",
        "    print(\"\", end = \"\")\n",
        "print(f\"occurences of three consecutive integers (either in ascending or descending order) that appear horizontally or vertically in the given square grid is {occurences}\")"
      ]
    },
    {
      "cell_type": "markdown",
      "metadata": {
        "id": "22bYM2bnxGFd"
      },
      "source": [
        "Test your program using the square grid below\n",
        "```python\n",
        "[6, 1, 9, 8, 4]\n",
        "[5, 1, 8, 7, 6]\n",
        "[4, 8, 7, 2, 1]\n",
        "[5, 6, 6, 5, 2]\n",
        "[7, 0, 1, 2, 0]\n",
        "```"
      ]
    }
  ],
  "metadata": {
    "colab": {
      "provenance": []
    },
    "kernelspec": {
      "display_name": "Python 3",
      "language": "python",
      "name": "python3"
    },
    "language_info": {
      "codemirror_mode": {
        "name": "ipython",
        "version": 3
      },
      "file_extension": ".py",
      "mimetype": "text/x-python",
      "name": "python",
      "nbconvert_exporter": "python",
      "pygments_lexer": "ipython3",
      "version": "3.11.3"
    }
  },
  "nbformat": 4,
  "nbformat_minor": 0
}
