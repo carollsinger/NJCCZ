{
  "cells": [
    {
      "cell_type": "markdown",
      "metadata": {
        "id": "p_GPPlfkyCuW"
      },
      "source": [
        "Name your Jupyter Notebook as:\n",
        "\n",
        "`TASK1_<your name>.ipynb`\n",
        "\n",
        "The task is to process a square grid of integers (0-9) and identify patterns of 3 numbers that are consecutive (e.g. 012, 789)."
      ]
    },
    {
      "cell_type": "markdown",
      "metadata": {
        "id": "eQZ3uyTjyCug"
      },
      "source": [
        "For instance, given the following square grid of 5 integers:\n",
        "\n",
        "![5 x 5 square grid](square_grid_highlighted.png \"5 x 5 square grid\")\n",
        "\n",
        "We can identify 2 sets of 3 integers that are consecutive (ascending or descending)."
      ]
    },
    {
      "cell_type": "markdown",
      "metadata": {
        "id": "9Axh-BNdyCui"
      },
      "source": [
        "For each of the sub-tasks, add a comment statement at the beginning of the code using the hash symbol ‘#’, to indicate the sub-task the program code belongs to, for example:"
      ]
    },
    {
      "cell_type": "markdown",
      "metadata": {
        "id": "xb3ue6pmyCuk"
      },
      "source": [
        "> `#Task 1.1`\\\n",
        "> Program code"
      ]
    },
    {
      "cell_type": "markdown",
      "metadata": {
        "id": "DKAd5RM0yCul"
      },
      "source": [
        "## Task 1.1\n",
        "Create a 2-dimensional list `grid` where each row contains the integers of the sample square grid provided above."
      ]
    },
    {
      "cell_type": "code",
      "execution_count": null,
      "metadata": {
        "id": "iOGKVCt5yCum"
      },
      "outputs": [],
      "source": [
        "grid = [\n",
        "    [6, 6, 8, 6, 7],\n",
        "    [0, 0, 3, 8, 0],\n",
        "    [6, 6, 6, 8, 7],\n",
        "    [9, 8, 7, 7, 9],\n",
        "    [4, 8, 8, 8, 3]\n",
        "]"
      ]
    },
    {
      "cell_type": "markdown",
      "metadata": {
        "id": "9rGpVjq3yCun"
      },
      "source": [
        "## Task 1.2\n",
        "Write program code that counts the total occurrences of three consecutive integers (either in ascending or descending order) that appear horizontally or vertically in the given square grid from Task 1.1.\n",
        "\n",
        "Output the result with an appropriate statement. Your program should work for a $n \\times n$ square grid as well.\n"
      ]
    },
    {
      "cell_type": "code",
      "execution_count": null,
      "metadata": {
        "id": "0nsOx1-dyCup",
        "colab": {
          "base_uri": "https://localhost:8080/"
        },
        "outputId": "7d03f4fb-a070-4c0c-83ae-e19014d3a2ce"
      },
      "outputs": [
        {
          "output_type": "stream",
          "name": "stdout",
          "text": [
            "There are 3 trios of consecutive integers.\n",
            "There are 5 trios of consecutive integers.\n"
          ]
        }
      ],
      "source": [
        "def grid_analyse(g):\n",
        "    h = [[] for i in range(len(g))]\n",
        "    for column in h:\n",
        "        for row in g:\n",
        "            column.append(row[h.index(column)])\n",
        "    #print(h)\n",
        "    counter = 0\n",
        "    for grid in [g, h]:\n",
        "        for line in grid:\n",
        "            for i in range(1, len(line)-1):\n",
        "                #print(line[i-1], line[i], line[i+1])\n",
        "                if (line[i-1] + 1 == line[i] and line[i] + 1 == line[i+1]) \\\n",
        "                or (line[i-1] - 1 == line[i] and line[i] - 1 == line[i+1]):\n",
        "                    counter += 1\n",
        "    return counter\n",
        "print(f\"There are {grid_analyse([[6, 1, 9, 8], [5, 1, 8, 7], [4, 8, 7, 2], [5, 6, 6, 5]])} trios of consecutive integers.\")\n",
        "print(f\"There are {grid_analyse([[6, 1, 9, 8, 4], [5, 1, 8, 7, 6], [4, 8, 7, 2, 1], [5, 6, 6, 5, 2], [7, 0, 1, 2, 0]])} trios of consecutive integers.\")"
      ]
    },
    {
      "cell_type": "markdown",
      "metadata": {
        "id": "f_CDoPXdyCuq"
      },
      "source": [
        "Test your program using the square grid below\n",
        "```python\n",
        "[6, 1, 9, 8, 4]\n",
        "[5, 1, 8, 7, 6]\n",
        "[4, 8, 7, 2, 1]\n",
        "[5, 6, 6, 5, 2]\n",
        "[7, 0, 1, 2, 0]\n",
        "```"
      ]
    }
  ],
  "metadata": {
    "kernelspec": {
      "display_name": "Python 3",
      "language": "python",
      "name": "python3"
    },
    "language_info": {
      "codemirror_mode": {
        "name": "ipython",
        "version": 3
      },
      "file_extension": ".py",
      "mimetype": "text/x-python",
      "name": "python",
      "nbconvert_exporter": "python",
      "pygments_lexer": "ipython3",
      "version": "3.11.3"
    },
    "colab": {
      "provenance": []
    }
  },
  "nbformat": 4,
  "nbformat_minor": 0
}