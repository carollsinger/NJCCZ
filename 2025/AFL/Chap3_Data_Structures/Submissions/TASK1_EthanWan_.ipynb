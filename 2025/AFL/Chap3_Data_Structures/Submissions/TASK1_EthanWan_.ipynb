{
  "cells": [
    {
      "cell_type": "markdown",
      "metadata": {
        "id": "g6bXtWo6x08l"
      },
      "source": [
        "Name your Jupyter Notebook as:\n",
        "\n",
        "`TASK1_<your name>.ipynb`\n",
        "\n",
        "The task is to process a square grid of integers (0-9) and identify patterns of 3 numbers that are consecutive (e.g. 012, 789)."
      ]
    },
    {
      "cell_type": "markdown",
      "metadata": {
        "id": "veI0pErtx08m"
      },
      "source": [
        "For instance, given the following square grid of 5 integers:\n",
        "\n",
        "![5 x 5 square grid](square_grid_highlighted.png \"5 x 5 square grid\")\n",
        "\n",
        "We can identify 2 sets of 3 integers that are consecutive (ascending or descending)."
      ]
    },
    {
      "cell_type": "markdown",
      "metadata": {
        "id": "VZgKDrEXx08n"
      },
      "source": [
        "For each of the sub-tasks, add a comment statement at the beginning of the code using the hash symbol ‘#’, to indicate the sub-task the program code belongs to, for example:"
      ]
    },
    {
      "cell_type": "markdown",
      "metadata": {
        "id": "V9GhWah6x08n"
      },
      "source": [
        "> `#Task 1.1`\\\n",
        "> Program code"
      ]
    },
    {
      "cell_type": "markdown",
      "metadata": {
        "id": "fuy0V6r4x08n"
      },
      "source": [
        "## Task 1.1\n",
        "Create a 2-dimensional list `grid` where each row contains the integers of the sample square grid provided above."
      ]
    },
    {
      "cell_type": "code",
      "execution_count": 7,
      "metadata": {
        "id": "3F7aiLNrx08o",
        "outputId": "090b0fb9-876c-4e85-eefe-c946c49cdeb4",
        "colab": {
          "base_uri": "https://localhost:8080/",
          "height": 0
        }
      },
      "outputs": [
        {
          "output_type": "stream",
          "name": "stdout",
          "text": [
            "[6, 6, 8, 6, 7]\n",
            "[0, 0, 3, 8, 0]\n",
            "[6, 6, 6, 8, 7]\n",
            "[9, 8, 7, 7, 9]\n",
            "[4, 8, 8, 8, 3]\n"
          ]
        }
      ],
      "source": [
        "\n",
        "numbers=[[6, 6, 8, 6, 7],\n",
        "         [0, 0, 3, 8, 0],\n",
        "         [6, 6, 6, 8, 7],\n",
        "         [9, 8, 7, 7, 9],\n",
        "         [4, 8, 8, 8, 3]]\n",
        "for i in numbers:\n",
        "  print(i, end=\"\\n\")"
      ]
    },
    {
      "cell_type": "markdown",
      "metadata": {
        "id": "69HPh6wPx08o"
      },
      "source": [
        "## Task 1.2\n",
        "Write program code that counts the total occurrences of three consecutive integers (either in ascending or descending order) that appear horizontally or vertically in the given square grid from Task 1.1.\n",
        "\n",
        "Output the result with an appropriate statement. Your program should work for a $n \\times n$ square grid as well.\n"
      ]
    },
    {
      "cell_type": "markdown",
      "source": [],
      "metadata": {
        "id": "KtlDzJ84CYal"
      }
    },
    {
      "cell_type": "code",
      "execution_count": 11,
      "metadata": {
        "id": "Spv1kOM-x08o",
        "outputId": "3611dcae-32c3-4c72-e766-107724411c3a",
        "colab": {
          "base_uri": "https://localhost:8080/",
          "height": 0
        }
      },
      "outputs": [
        {
          "output_type": "stream",
          "name": "stdout",
          "text": [
            "Number of times theres 3 in a row: 5\n"
          ]
        }
      ],
      "source": [
        "\n",
        "#Task 1.2\n",
        "\n",
        "numbers=([6, 1, 9, 8, 4], [5, 1, 8, 7, 6], [4, 8, 7, 2, 1], [5, 6, 6, 5, 2], [7, 0, 1, 2, 0])\n",
        "row_count = 0\n",
        "\n",
        "for i in range(len(numbers)):\n",
        "    for j in range(len(numbers[i])):\n",
        "        if j + 2 < len(numbers[i]) and (numbers[i][j] + 1 == numbers[i][j + 1] and numbers[i][j] + 2 == numbers[i][j + 2] or\n",
        "                                         numbers[i][j] - 1 == numbers[i][j + 1] and numbers[i][j] - 2 == numbers[i][j + 2]):\n",
        "            row_count += 1\n",
        "        if i + 2 < len(numbers) and (numbers[i][j] + 1 == numbers[i + 1][j] and numbers[i][j] + 2 == numbers[i + 2][j] or\n",
        "                                         numbers[i][j] - 1 == numbers[i + 1][j] and numbers[i][j] - 2 == numbers[i + 2][j]):\n",
        "            row_count += 1\n",
        "\n",
        "print(\"Number of times theres 3 in a row:\", row_count)\n"
      ]
    },
    {
      "cell_type": "markdown",
      "metadata": {
        "id": "EQ1Mk_uNx08o"
      },
      "source": [
        "Test your program using the square grid below\n",
        "```python\n",
        "[6, 1, 9, 8, 4]\n",
        "[5, 1, 8, 7, 6]\n",
        "[4, 8, 7, 2, 1]\n",
        "[5, 6, 6, 5, 2]\n",
        "[7, 0, 1, 2, 0]\n",
        "```"
      ]
    }
  ],
  "metadata": {
    "kernelspec": {
      "display_name": "Python 3",
      "language": "python",
      "name": "python3"
    },
    "language_info": {
      "codemirror_mode": {
        "name": "ipython",
        "version": 3
      },
      "file_extension": ".py",
      "mimetype": "text/x-python",
      "name": "python",
      "nbconvert_exporter": "python",
      "pygments_lexer": "ipython3",
      "version": "3.11.3"
    },
    "colab": {
      "provenance": []
    }
  },
  "nbformat": 4,
  "nbformat_minor": 0
}