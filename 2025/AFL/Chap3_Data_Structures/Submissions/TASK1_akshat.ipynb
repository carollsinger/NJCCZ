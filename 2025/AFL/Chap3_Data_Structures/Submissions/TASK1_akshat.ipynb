{
  "cells": [
    {
      "cell_type": "markdown",
      "metadata": {
        "id": "oX2CnnhWxZ0S"
      },
      "source": [
        "Name your Jupyter Notebook as:\n",
        "\n",
        "`TASK1_<your name>.ipynb`\n",
        "\n",
        "The task is to process a square grid of integers (0-9) and identify patterns of 3 numbers that are consecutive (e.g. 012, 789)."
      ]
    },
    {
      "cell_type": "markdown",
      "metadata": {
        "id": "x5Cru9U4xZ0T"
      },
      "source": [
        "For instance, given the following square grid of 5 integers:\n",
        "\n",
        "![5 x 5 square grid](square_grid_highlighted.png \"5 x 5 square grid\")\n",
        "\n",
        "We can identify 2 sets of 3 integers that are consecutive (ascending or descending)."
      ]
    },
    {
      "cell_type": "markdown",
      "metadata": {
        "id": "_08zOzr1xZ0T"
      },
      "source": [
        "For each of the sub-tasks, add a comment statement at the beginning of the code using the hash symbol ‘#’, to indicate the sub-task the program code belongs to, for example:"
      ]
    },
    {
      "cell_type": "markdown",
      "metadata": {
        "id": "vqjgVCmlxZ0T"
      },
      "source": [
        "> `#Task 1.1`\\\n",
        "> Program code"
      ]
    },
    {
      "cell_type": "markdown",
      "metadata": {
        "id": "1WVGFZNKxZ0U"
      },
      "source": [
        "## Task 1.1\n",
        "Create a 2-dimensional list `grid` where each row contains the integers of the sample square grid provided above."
      ]
    },
    {
      "cell_type": "code",
      "execution_count": 1,
      "metadata": {
        "id": "nUHBl6n_xZ0U"
      },
      "outputs": [],
      "source": [
        "lst = [\n",
        "    [6,6,8,9,7],\n",
        "    [0,0,3,8,0],\n",
        "    [6,6,6,8,7],\n",
        "    [9,8,7,7,9],\n",
        "    [4,8,8,8,3]\n",
        "]"
      ]
    },
    {
      "cell_type": "markdown",
      "metadata": {
        "id": "BNMd56ocxZ0U"
      },
      "source": [
        "## Task 1.2\n",
        "Write program code that counts the total occurrences of three consecutive integers (either in ascending or descending order) that appear horizontally or vertically in the given square grid from Task 1.1.\n",
        "\n",
        "Output the result with an appropriate statement. Your program should work for a $n \\times n$ square grid as well.\n"
      ]
    },
    {
      "cell_type": "code",
      "execution_count": 35,
      "metadata": {
        "colab": {
          "base_uri": "https://localhost:8080/"
        },
        "id": "DJlVqH4TxZ0U",
        "outputId": "16994213-dead-48fa-f0d3-2cddf27ed666"
      },
      "outputs": [
        {
          "output_type": "stream",
          "name": "stdout",
          "text": [
            "5\n"
          ]
        }
      ],
      "source": [
        "lst = [\n",
        "    [6, 1, 9, 8, 4],\n",
        "    [5, 1, 8, 7, 6],\n",
        "    [4, 8, 7, 2, 1],\n",
        "    [5, 6, 6, 5, 2],\n",
        "    [7, 0, 1, 2, 0]\n",
        "]\n",
        "def check(listt):\n",
        "  occ = 0\n",
        "  for i in range(len(listt)):\n",
        "    if i < len(listt)-2:\n",
        "      if listt[i] == listt[i+1]-1 == listt[i+2]-2 or listt[i] == listt[i+1]+1 == listt[i+2]+2:\n",
        "        occ+=1\n",
        "  return occ\n",
        "def checkTotal(l):\n",
        "  final = 0\n",
        "  for i in range(len(l)):\n",
        "    if len(l[i])>=3:\n",
        "      final+=check(l[i])\n",
        "  return final\n",
        "newList = [[lst[m][i] for m in range(len(lst[i]))] for i in range(len(lst))]\n",
        "print(checkTotal(lst) + checkTotal(newList))"
      ]
    },
    {
      "cell_type": "markdown",
      "metadata": {
        "id": "SSX0qTSIxZ0U"
      },
      "source": [
        "Test your program using the square grid below\n",
        "```python\n",
        "[6, 1, 9, 8, 4]\n",
        "[5, 1, 8, 7, 6]\n",
        "[4, 8, 7, 2, 1]\n",
        "[5, 6, 6, 5, 2]\n",
        "[7, 0, 1, 2, 0]\n",
        "```"
      ]
    }
  ],
  "metadata": {
    "kernelspec": {
      "display_name": "Python 3",
      "language": "python",
      "name": "python3"
    },
    "language_info": {
      "codemirror_mode": {
        "name": "ipython",
        "version": 3
      },
      "file_extension": ".py",
      "mimetype": "text/x-python",
      "name": "python",
      "nbconvert_exporter": "python",
      "pygments_lexer": "ipython3",
      "version": "3.11.3"
    },
    "colab": {
      "provenance": []
    }
  },
  "nbformat": 4,
  "nbformat_minor": 0
}