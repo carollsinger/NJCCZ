{
 "cells": [
  {
   "cell_type": "markdown",
   "metadata": {},
   "source": [
    "Name your Jupyter Notebook as:\n",
    "\n",
    "`TASK1_<your name>.ipynb`\n",
    "\n",
    "The task is to process a square grid of integers (0-9) and identify patterns of 3 numbers that are consecutive (e.g. 012, 789)."
   ]
  },
  {
   "cell_type": "markdown",
   "metadata": {},
   "source": [
    "For instance, given the following square grid of 5 integers:\n",
    "\n",
    "![5 x 5 square grid](square_grid_highlighted.png \"5 x 5 square grid\")\n",
    "\n",
    "We can identify 2 sets of 3 integers that are consecutive (ascending or descending)."
   ]
  },
  {
   "cell_type": "markdown",
   "metadata": {},
   "source": [
    "For each of the sub-tasks, add a comment statement at the beginning of the code using the hash symbol ‘#’, to indicate the sub-task the program code belongs to, for example:"
   ]
  },
  {
   "cell_type": "markdown",
   "metadata": {},
   "source": [
    "> `#Task 1.1`\\\n",
    "> Program code"
   ]
  },
  {
   "cell_type": "markdown",
   "metadata": {},
   "source": [
    "## Task 1.1\n",
    "Create a 2-dimensional list `grid` where each row contains the integers of the sample square grid provided above."
   ]
  },
  {
   "cell_type": "code",
   "execution_count": 2,
   "metadata": {},
   "outputs": [
    {
     "name": "stdout",
     "output_type": "stream",
     "text": [
      "[6, 6, 8, 6, 7]\n",
      "[0, 0, 3, 8, 0]\n",
      "[6, 6, 6, 8, 7]\n",
      "[9, 8, 7, 7, 9]\n",
      "[4, 8, 8, 8, 3]\n"
     ]
    }
   ],
   "source": [
    "grid = [[6, 6, 8, 6, 7], \n",
    "        [0, 0, 3, 8, 0], \n",
    "        [6, 6, 6, 8, 7], \n",
    "        [9, 8, 7, 7, 9], \n",
    "        [4, 8, 8, 8, 3]]\n",
    "\n",
    "for i in grid:\n",
    "  print(i)"
   ]
  },
  {
   "cell_type": "markdown",
   "metadata": {},
   "source": [
    "## Task 1.2\n",
    "Write program code that counts the total occurrences of three consecutive integers (either in ascending or descending order) that appear horizontally or vertically in the given square grid from Task 1.1.\n",
    "\n",
    "Output the result with an appropriate statement. Your program should work for a $n \\times n$ square grid as well.\n"
   ]
  },
  {
   "cell_type": "code",
   "execution_count": 3,
   "metadata": {},
   "outputs": [
    {
     "name": "stdout",
     "output_type": "stream",
     "text": [
      "2\n"
     ]
    }
   ],
   "source": [
    "def vertical(grid): #creates a rotated grid\n",
    "  newGrid = [[] for i in grid]\n",
    "\n",
    "  for rowNo, row in enumerate(grid):\n",
    "    for c in range(len(grid)):\n",
    "      newGrid[c] += [row[c]]\n",
    "\n",
    "  return newGrid\n",
    "\n",
    "def checkConsecutive(l): #find whether a list of 3 numbers are consecutive\n",
    "  return l[0] == l[1] - 1 and l[1] == l[2] - 1 or l[0] == l[1] + 1 and l[1] == l[2] + 1\n",
    "\n",
    "def findConsecutive(l): #count the sets of consecutive numbers in a given list\n",
    "  count = 0\n",
    "\n",
    "  for i in range(len(l) - 2):\n",
    "    if checkConsecutive(l[i:i+3]):\n",
    "      count += 1\n",
    "\n",
    "  return count\n",
    "\n",
    "def countConsecutive(l): #count the sets of consecutive numbers in a grid\n",
    "  count  = 0\n",
    "\n",
    "  for c in l:\n",
    "    count += findConsecutive(c)\n",
    "\n",
    "  for c in vertical(l):\n",
    "    count += findConsecutive(c)\n",
    "\n",
    "  return count\n",
    "\n",
    "grid = [[6, 6, 8, 6, 7], \n",
    "        [0, 0, 3, 8, 0], \n",
    "        [6, 6, 6, 8, 7], \n",
    "        [9, 8, 7, 7, 9], \n",
    "        [4, 8, 8, 8, 3]]\n",
    "print(countConsecutive(grid))"
   ]
  },
  {
   "cell_type": "markdown",
   "metadata": {},
   "source": [
    "Test your program using the square grid below\n",
    "```python\n",
    "[6, 1, 9, 8, 4]\n",
    "[5, 1, 8, 7, 6]\n",
    "[4, 8, 7, 2, 1]\n",
    "[5, 6, 6, 5, 2]\n",
    "[7, 0, 1, 2, 0]\n",
    "```"
   ]
  },
  {
   "cell_type": "code",
   "execution_count": 4,
   "metadata": {},
   "outputs": [
    {
     "name": "stdout",
     "output_type": "stream",
     "text": [
      "5\n"
     ]
    }
   ],
   "source": [
    "testGrid = [[6, 1, 9, 8, 4],\n",
    "            [5, 1, 8, 7, 6],\n",
    "            [4, 8, 7, 2, 1],\n",
    "            [5, 6, 6, 5, 2],\n",
    "            [7, 0, 1, 2, 0]]\n",
    "print(countConsecutive(testGrid))"
   ]
  }
 ],
 "metadata": {
  "kernelspec": {
   "display_name": "Python 3",
   "language": "python",
   "name": "python3"
  },
  "language_info": {
   "codemirror_mode": {
    "name": "ipython",
    "version": 3
   },
   "file_extension": ".py",
   "mimetype": "text/x-python",
   "name": "python",
   "nbconvert_exporter": "python",
   "pygments_lexer": "ipython3",
   "version": "3.12.1"
  }
 },
 "nbformat": 4,
 "nbformat_minor": 2
}
