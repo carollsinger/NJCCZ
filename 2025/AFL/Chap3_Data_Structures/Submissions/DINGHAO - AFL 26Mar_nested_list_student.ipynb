{
  "cells": [
    {
      "cell_type": "markdown",
      "metadata": {
        "id": "view-in-github",
        "colab_type": "text"
      },
      "source": [
        "<a href=\"https://colab.research.google.com/github/WDH-STU/NJCCZ/blob/main/2025/AFL/Chap3_Data_Structures/AFL%2026Mar_nested_list_student.ipynb\" target=\"_parent\"><img src=\"https://colab.research.google.com/assets/colab-badge.svg\" alt=\"Open In Colab\"/></a>"
      ]
    },
    {
      "cell_type": "markdown",
      "metadata": {
        "id": "fLJokTOIxjS2"
      },
      "source": [
        "Name your Jupyter Notebook as:\n",
        "\n",
        "`TASK1_<your name>.ipynb`\n",
        "\n",
        "The task is to process a square grid of integers (0-9) and identify patterns of 3 numbers that are consecutive (e.g. 012, 789)."
      ]
    },
    {
      "cell_type": "markdown",
      "metadata": {
        "id": "ZeOLEbI6xjS3"
      },
      "source": [
        "For instance, given the following square grid of 5 integers:\n",
        "\n",
        "![5 x 5 square grid](square_grid_highlighted.png \"5 x 5 square grid\")\n",
        "\n",
        "We can identify 2 sets of 3 integers that are consecutive (ascending or descending)."
      ]
    },
    {
      "cell_type": "markdown",
      "metadata": {
        "id": "7_UiSOzIxjS4"
      },
      "source": [
        "For each of the sub-tasks, add a comment statement at the beginning of the code using the hash symbol ‘#’, to indicate the sub-task the program code belongs to, for example:"
      ]
    },
    {
      "cell_type": "markdown",
      "metadata": {
        "id": "bmYTKfgZxjS4"
      },
      "source": [
        "> `#Task 1.1`\\\n",
        "> Program code"
      ]
    },
    {
      "cell_type": "markdown",
      "metadata": {
        "id": "Ei261tfwxjS4"
      },
      "source": [
        "## Task 1.1\n",
        "Create a 2-dimensional list `grid` where each row contains the integers of the sample square grid provided above."
      ]
    },
    {
      "cell_type": "code",
      "execution_count": null,
      "metadata": {
        "colab": {
          "base_uri": "https://localhost:8080/"
        },
        "id": "fZkrc3FsxjS5",
        "outputId": "91865ffe-420a-45ed-e881-74ba0cbae407"
      },
      "outputs": [
        {
          "output_type": "stream",
          "name": "stdout",
          "text": [
            "[6, 6, 8, 6, 7]\n",
            "[0, 0, 3, 8, 0]\n",
            "[6, 6, 6, 8, 7]\n",
            "[9, 8, 7, 7, 9]\n",
            "[4, 8, 8, 8, 3]\n"
          ]
        }
      ],
      "source": [
        "#Task 1.1\n",
        "grid = [[6, 6, 8, 6, 7],[0, 0, 3, 8, 0],[6, 6, 6, 8, 7],[9, 8, 7, 7, 9],[4, 8, 8, 8, 3]]\n",
        "for gridlen in range(len(grid)):\n",
        "  print(grid[gridlen])"
      ]
    },
    {
      "cell_type": "markdown",
      "metadata": {
        "id": "599gy5uGxjS5"
      },
      "source": [
        "## Task 1.2\n",
        "Write program code that counts the total occurrences of three consecutive integers (either in ascending or descending order) that appear horizontally or vertically in the given square grid from Task 1.1.\n",
        "\n",
        "Output the result with an appropriate statement. Your program should work for a $n \\times n$ square grid as well.\n"
      ]
    },
    {
      "cell_type": "code",
      "execution_count": 40,
      "metadata": {
        "colab": {
          "base_uri": "https://localhost:8080/"
        },
        "id": "IKZIGuNfxjS5",
        "outputId": "b9268724-8d61-40b2-92a6-f367fa41990d"
      },
      "outputs": [
        {
          "output_type": "stream",
          "name": "stdout",
          "text": [
            "The horizontal occurence of consecutive integers are: 8, 7, 6\n",
            "The horizontal occurence of consecutive integers are: 0, 1, 2\n",
            "The vertical occurence of consecutive integers are: 6, 5, 4\n",
            "The vertical occurence of consecutive integers are: 9, 8, 7\n",
            "The vertical occurence of consecutive integers are: 8, 7, 6\n"
          ]
        }
      ],
      "source": [
        "grid = [[6, 1, 9, 8, 4],\n",
        "     [5, 1, 8, 7, 6],\n",
        "     [4, 8, 7, 2, 1],\n",
        "     [5, 6, 6, 5, 2],\n",
        "     [7, 0, 1, 2, 0]]\n",
        "for gridlen in range(len(grid)):\n",
        "  for gridlenplus in range(len(grid[gridlen]) - 2):\n",
        "     if grid[gridlen][gridlenplus + 1] == grid[gridlen][gridlenplus] + 1 and grid[gridlen][gridlenplus + 2] == grid[gridlen][gridlenplus] + 2:\n",
        "       print(f'The horizontal occurence of consecutive integers are: {grid[gridlen][gridlenplus]}, {grid[gridlen][gridlenplus] + 1}, {grid[gridlen][gridlenplus] + 2}')\n",
        "  for gridlenmius in range(len(grid[gridlen]) - 2):\n",
        "     if grid[gridlen][gridlenmius + 1] == grid[gridlen][gridlenmius] - 1 and grid[gridlen][gridlenmius + 2] == grid[gridlen][gridlenmius] - 2:\n",
        "       print(f'The horizontal occurence of consecutive integers are: {grid[gridlen][gridlenmius]}, {grid[gridlen][gridlenmius] - 1}, {grid[gridlen][gridlenmius] - 2}')\n",
        "for gridlen in range(len(grid) - 2):\n",
        "  for gridlenf in range(len(grid[gridlen])):\n",
        "    if grid[gridlen + 1][gridlenf] == grid[gridlen][gridlenf] + 1 and grid[gridlen + 2][gridlenf] == grid[gridlen][gridlenf] + 2:\n",
        "      print(f'The vertical occurence of consecutive integers are: {grid[gridlen][gridlenf]}, {grid[gridlen + 1][gridlenf]}, {grid[gridlen + 2][gridlenf]} ')\n",
        "    if grid[gridlen + 1][gridlenf] == grid[gridlen][gridlenf] - 1 and grid[gridlen + 2][gridlenf] == grid[gridlen][gridlenf] - 2:\n",
        "      print(f'The vertical occurence of consecutive integers are: {grid[gridlen][gridlenf]}, {grid[gridlen + 1][gridlenf]}, {grid[gridlen + 2][gridlenf]}')"
      ]
    },
    {
      "cell_type": "markdown",
      "metadata": {
        "id": "aHyVhaCxxjS6"
      },
      "source": [
        "Test your program using the square grid below\n",
        "```python\n",
        "[6, 1, 9, 8, 4]\n",
        "[5, 1, 8, 7, 6]\n",
        "[4, 8, 7, 2, 1]\n",
        "[5, 6, 6, 5, 2]\n",
        "[7, 0, 1, 2, 0]\n",
        "```"
      ]
    }
  ],
  "metadata": {
    "kernelspec": {
      "display_name": "Python 3",
      "language": "python",
      "name": "python3"
    },
    "language_info": {
      "codemirror_mode": {
        "name": "ipython",
        "version": 3
      },
      "file_extension": ".py",
      "mimetype": "text/x-python",
      "name": "python",
      "nbconvert_exporter": "python",
      "pygments_lexer": "ipython3",
      "version": "3.11.3"
    },
    "colab": {
      "provenance": [],
      "include_colab_link": true
    }
  },
  "nbformat": 4,
  "nbformat_minor": 0
}