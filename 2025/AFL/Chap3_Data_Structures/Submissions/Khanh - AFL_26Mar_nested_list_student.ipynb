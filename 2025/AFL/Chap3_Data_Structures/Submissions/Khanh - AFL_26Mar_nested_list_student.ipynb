{
  "cells": [
    {
      "cell_type": "markdown",
      "metadata": {
        "id": "l4Qn9BtLx8GB"
      },
      "source": [
        "Name your Jupyter Notebook as:\n",
        "\n",
        "`TASK1_<your name>.ipynb`\n",
        "\n",
        "The task is to process a square grid of integers (0-9) and identify patterns of 3 numbers that are consecutive (e.g. 012, 789)."
      ]
    },
    {
      "cell_type": "markdown",
      "metadata": {
        "id": "aU6VB4D2x8GH"
      },
      "source": [
        "For instance, given the following square grid of 5 integers:\n",
        "\n",
        "![5 x 5 square grid](square_grid_highlighted.png \"5 x 5 square grid\")\n",
        "\n",
        "We can identify 2 sets of 3 integers that are consecutive (ascending or descending)."
      ]
    },
    {
      "cell_type": "markdown",
      "metadata": {
        "id": "o6ZUxcTkx8GI"
      },
      "source": [
        "For each of the sub-tasks, add a comment statement at the beginning of the code using the hash symbol ‘#’, to indicate the sub-task the program code belongs to, for example:"
      ]
    },
    {
      "cell_type": "markdown",
      "metadata": {
        "id": "-CUFI-H5x8GK"
      },
      "source": [
        "> `#Task 1.1`\\\n",
        "> Program code"
      ]
    },
    {
      "cell_type": "markdown",
      "metadata": {
        "id": "9aS5NlT_x8GK"
      },
      "source": [
        "## Task 1.1\n",
        "Create a 2-dimensional list `grid` where each row contains the integers of the sample square grid provided above."
      ]
    },
    {
      "cell_type": "code",
      "execution_count": null,
      "metadata": {
        "id": "LjyNksEwx8GL",
        "outputId": "2535a136-6530-4a16-f40f-0556cab1d3cb",
        "colab": {
          "base_uri": "https://localhost:8080/"
        }
      },
      "outputs": [
        {
          "output_type": "stream",
          "name": "stdout",
          "text": [
            "[6, 6, 8, 6, 7]\n",
            "[0, 0, 3, 8, 0]\n",
            "[6, 6, 6, 8, 7]\n",
            "[9, 8, 7, 7, 9]\n",
            "[4, 8, 8, 8, 3]\n"
          ]
        }
      ],
      "source": [
        "#task 1\n",
        "row = [[6,6,8,6,7], [0,0,3,8,0], [6,6,6,8,7], [9,8,7,7,9], [4,8,8,8,3]]\n",
        "for i in row:\n",
        "  print (i)\n"
      ]
    },
    {
      "cell_type": "markdown",
      "metadata": {
        "id": "sHmkvy5nx8GM"
      },
      "source": [
        "## Task 1.2\n",
        "Write program code that counts the total occurrences of three consecutive integers (either in ascending or descending order) that appear horizontally or vertically in the given square grid from Task 1.1.\n",
        "\n",
        "Output the result with an appropriate statement. Your program should work for a $n \\times n$ square grid as well.\n"
      ]
    },
    {
      "cell_type": "code",
      "execution_count": null,
      "metadata": {
        "id": "y7pxuzQPx8GM",
        "outputId": "7c637f1d-60cd-4aa9-d4b9-f966f0430ecf",
        "colab": {
          "base_uri": "https://localhost:8080/"
        }
      },
      "outputs": [
        {
          "output_type": "stream",
          "name": "stdout",
          "text": [
            "5\n"
          ]
        }
      ],
      "source": [
        "grid = [[6, 1, 9, 8, 4],\n",
        "[5, 1, 8, 7, 6],\n",
        "[4, 8, 7, 2, 1],\n",
        "[5, 6, 6, 5, 2],\n",
        "[7, 0, 1, 2, 0]\n",
        "]\n",
        "\n",
        "\n",
        "\n",
        "cnt = 0\n",
        "x = len(grid) #5\n",
        "\n",
        "for i in range (x): #iterate through every row\n",
        "  for j in range(x): #iterate through column\n",
        "    if (j<x-2):\n",
        "      if(grid[i][j]==grid[i][j+1]+1==grid[i][j+2]+2 or grid[i][j]+2==grid[i][j+1]+1==grid[i][j+2]):\n",
        "        cnt+=1\n",
        "      if(i<x-2):\n",
        "        if(grid[i][j]==grid[i+1][j]+1==grid[i+2][j]+2 or grid[i][j]+2==grid[i+1][j]+1==grid[i+2][j]):\n",
        "          cnt+=1\n",
        "print(cnt)\n"
      ]
    },
    {
      "cell_type": "markdown",
      "metadata": {
        "id": "RYuRzVqOx8GN"
      },
      "source": [
        "Test your program using the square grid below\n",
        "```python\n",
        "[6, 1, 9, 8, 4]\n",
        "[5, 1, 8, 7, 6]\n",
        "[4, 8, 7, 2, 1]\n",
        "[5, 6, 6, 5, 2]\n",
        "[7, 0, 1, 2, 0]\n",
        "```"
      ]
    }
  ],
  "metadata": {
    "kernelspec": {
      "display_name": "Python 3",
      "language": "python",
      "name": "python3"
    },
    "language_info": {
      "codemirror_mode": {
        "name": "ipython",
        "version": 3
      },
      "file_extension": ".py",
      "mimetype": "text/x-python",
      "name": "python",
      "nbconvert_exporter": "python",
      "pygments_lexer": "ipython3",
      "version": "3.11.3"
    },
    "colab": {
      "provenance": []
    }
  },
  "nbformat": 4,
  "nbformat_minor": 0
}