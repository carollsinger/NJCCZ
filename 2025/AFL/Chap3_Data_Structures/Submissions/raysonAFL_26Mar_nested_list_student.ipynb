{
  "cells": [
    {
      "cell_type": "markdown",
      "metadata": {
        "id": "sLNeSojExmxX"
      },
      "source": [
        "Name your Jupyter Notebook as:\n",
        "\n",
        "`TASK1_<your name>.ipynb`\n",
        "\n",
        "The task is to process a square grid of integers (0-9) and identify patterns of 3 numbers that are consecutive (e.g. 012, 789)."
      ]
    },
    {
      "cell_type": "markdown",
      "metadata": {
        "id": "MtDrIzhqxmxf"
      },
      "source": [
        "For instance, given the following square grid of 5 integers:\n",
        "\n",
        "![5 x 5 square grid](square_grid_highlighted.png \"5 x 5 square grid\")\n",
        "\n",
        "We can identify 2 sets of 3 integers that are consecutive (ascending or descending)."
      ]
    },
    {
      "cell_type": "markdown",
      "metadata": {
        "id": "BCuDIqGSxmxg"
      },
      "source": [
        "For each of the sub-tasks, add a comment statement at the beginning of the code using the hash symbol ‘#’, to indicate the sub-task the program code belongs to, for example:"
      ]
    },
    {
      "cell_type": "markdown",
      "metadata": {
        "id": "81uKtrRmxmxh"
      },
      "source": [
        "> `#Task 1.1`\\\n",
        "> Program code"
      ]
    },
    {
      "cell_type": "markdown",
      "metadata": {
        "id": "JmI24a1-xmxi"
      },
      "source": [
        "## Task 1.1\n",
        "Create a 2-dimensional list `grid` where each row contains the integers of the sample square grid provided above."
      ]
    },
    {
      "cell_type": "code",
      "execution_count": null,
      "metadata": {
        "id": "64U1WsLPxmxi"
      },
      "outputs": [],
      "source": [
        "#Creating the grid\n",
        "grid = [\n",
        "    [6, 6, 8, 6, 7],\n",
        "    [0, 0, 3, 8, 0],\n",
        "    [6, 6, 6, 8, 7],\n",
        "    [9, 8, 7, 7, 9],\n",
        "    [4, 8, 8, 8, 3]\n",
        "]"
      ]
    },
    {
      "cell_type": "markdown",
      "metadata": {
        "id": "bqgCgaaLxmxj"
      },
      "source": [
        "## Task 1.2\n",
        "Write program code that counts the total occurrences of three consecutive integers (either in ascending or descending order) that appear horizontally or vertically in the given square grid from Task 1.1.\n",
        "\n",
        "Output the result with an appropriate statement. Your program should work for a $n \\times n$ square grid as well.\n"
      ]
    },
    {
      "cell_type": "code",
      "execution_count": 18,
      "metadata": {
        "id": "qGnz5HHwxmxk",
        "outputId": "cd0ea2cb-021c-4a0e-f2fa-a546e879faab",
        "colab": {
          "base_uri": "https://localhost:8080/"
        }
      },
      "outputs": [
        {
          "output_type": "stream",
          "name": "stdout",
          "text": [
            "5\n"
          ]
        }
      ],
      "source": [
        "# grid = [\n",
        "#     [6, 6, 8, 6, 7],\n",
        "#     [0, 0, 3, 8, 0],\n",
        "#     [6, 6, 6, 8, 7],\n",
        "#     [9, 8, 7, 7, 9],\n",
        "#     [4, 8, 8, 8, 3]\n",
        "# ]\n",
        "\n",
        "grid = [\n",
        "    [6, 1, 9, 8, 4],\n",
        "[5, 1, 8, 7, 6],\n",
        "[4, 8, 7, 2, 1],\n",
        "[5, 6, 6, 5, 2],\n",
        "[7, 0, 1, 2, 0]\n",
        "]\n",
        "\n",
        "#counting 3 consecutive numbers\n",
        "count = 0\n",
        "for i in range(len(grid)):\n",
        "  for j in range(len(grid[i]) - 2):\n",
        "    if grid[i][j] - grid[i][j + 1] == 1 and grid[i][j + 1] - grid[i][j + 2] == 1:\n",
        "      count += 1\n",
        "    elif grid[i][j] - grid[i][j + 1] == -1 and grid[i][j + 1] - grid[i][j + 2] == -1:\n",
        "      count += 1\n",
        "\n",
        "\n",
        "for i in range(5):\n",
        "  for j in range(3):\n",
        "    if grid[j][i] - grid[j + 1][i] == 1 and grid[j + 1][i] - grid[j + 2][i] == 1:\n",
        "        count += 1\n",
        "    elif grid[j][i] - grid[j + 1][i] == -1 and grid[j + 1][i] - grid[j + 2][i] == -1:\n",
        "      count += 1\n",
        "\n",
        "print(count)"
      ]
    },
    {
      "cell_type": "markdown",
      "metadata": {
        "id": "kyLAfX_Bxmxl"
      },
      "source": [
        "Test your program using the square grid below\n",
        "```python\n",
        "[6, 1, 9, 8, 4]\n",
        "[5, 1, 8, 7, 6]\n",
        "[4, 8, 7, 2, 1]\n",
        "[5, 6, 6, 5, 2]\n",
        "[7, 0, 1, 2, 0]\n",
        "```"
      ]
    }
  ],
  "metadata": {
    "kernelspec": {
      "display_name": "Python 3",
      "language": "python",
      "name": "python3"
    },
    "language_info": {
      "codemirror_mode": {
        "name": "ipython",
        "version": 3
      },
      "file_extension": ".py",
      "mimetype": "text/x-python",
      "name": "python",
      "nbconvert_exporter": "python",
      "pygments_lexer": "ipython3",
      "version": "3.11.3"
    },
    "colab": {
      "provenance": []
    }
  },
  "nbformat": 4,
  "nbformat_minor": 0
}
