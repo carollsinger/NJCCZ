{
  "cells": [
    {
      "cell_type": "markdown",
      "metadata": {
        "id": "szAnfzQ8z6nE"
      },
      "source": [
        "Name your Jupyter Notebook as:\n",
        "\n",
        "`TASK1_<your name>.ipynb`\n",
        "\n",
        "The task is to process a square grid of integers (0-9) and identify patterns of 3 numbers that are consecutive (e.g. 012, 789)."
      ]
    },
    {
      "cell_type": "markdown",
      "metadata": {
        "id": "ZWfdzmVzz6nH"
      },
      "source": [
        "For instance, given the following square grid of 5 integers:\n",
        "\n",
        "![5 x 5 square grid](square_grid_highlighted.png \"5 x 5 square grid\")\n",
        "\n",
        "We can identify 2 sets of 3 integers that are consecutive (ascending or descending)."
      ]
    },
    {
      "cell_type": "markdown",
      "metadata": {
        "id": "JEjLIqyhz6nI"
      },
      "source": [
        "For each of the sub-tasks, add a comment statement at the beginning of the code using the hash symbol ‘#’, to indicate the sub-task the program code belongs to, for example:"
      ]
    },
    {
      "cell_type": "markdown",
      "metadata": {
        "id": "En9psHiLz6nI"
      },
      "source": [
        "> `#Task 1.1`\\\n",
        "> Program code"
      ]
    },
    {
      "cell_type": "markdown",
      "metadata": {
        "id": "iTB1FTHxz6nJ"
      },
      "source": [
        "## Task 1.1\n",
        "Create a 2-dimensional list `grid` where each row contains the integers of the sample square grid provided above."
      ]
    },
    {
      "cell_type": "code",
      "execution_count": null,
      "metadata": {
        "colab": {
          "base_uri": "https://localhost:8080/"
        },
        "id": "aj_a6LHBz6nJ",
        "outputId": "4159532e-b412-4675-9556-9201169ffabf"
      },
      "outputs": [
        {
          "output_type": "stream",
          "name": "stdout",
          "text": [
            "[6, 6, 8, 6, 7]\n",
            "[0, 0, 3, 8, 0]\n",
            "[6, 6, 6, 8, 7]\n",
            "[9, 8, 7, 7, 9]\n",
            "[4, 8, 8, 8, 3]\n"
          ]
        }
      ],
      "source": [
        "#Task 1.1\n",
        "grid = [[6,6,8,6,7],\n",
        "       [0,0,3,8,0],\n",
        "       [6,6,6,8,7],\n",
        "       [9,8,7,7,9],\n",
        "       [4,8,8,8,3]\n",
        "]\n",
        "\n",
        "for row in grid:\n",
        "  print(row)"
      ]
    },
    {
      "cell_type": "markdown",
      "metadata": {
        "id": "g1g5ueQxz6nK"
      },
      "source": [
        "## Task 1.2\n",
        "Write program code that counts the total occurrences of three consecutive integers (either in ascending or descending order) that appear horizontally or vertically in the given square grid from Task 1.1.\n",
        "\n",
        "Output the result with an appropriate statement. Your program should work for a $n \\times n$ square grid as well.\n"
      ]
    },
    {
      "cell_type": "code",
      "execution_count": 1,
      "metadata": {
        "colab": {
          "base_uri": "https://localhost:8080/"
        },
        "id": "5YrpuThFz6nK",
        "outputId": "d459cbd0-bace-484a-8488-1c6912938030"
      },
      "outputs": [
        {
          "output_type": "stream",
          "name": "stdout",
          "text": [
            "Total occurrences of three consecutive integers is 5\n"
          ]
        }
      ],
      "source": [
        "#Task 1.2\n",
        "grid = [[6, 1, 9, 8, 4],\n",
        "        [5, 1, 8, 7, 6],\n",
        "        [4, 8, 7, 2, 1],\n",
        "        [5, 6, 6, 5, 2],\n",
        "        [7, 0, 1, 2, 0]\n",
        "        ]\n",
        "number_of_consecutive_integers = 0\n",
        "n = len(grid)\n",
        "for row in grid:\n",
        "  r = len(row)\n",
        "\n",
        "for i in range(r - 1):\n",
        "  if row[i] + 1 == row[i+1]:\n",
        "    number_of_consecutive_integers += 1\n",
        "  elif row[i] - 1 == row[i-1]:\n",
        "    number_of_consecutive_integers += 1\n",
        "\n",
        "columns = []\n",
        "for col in range(n):\n",
        "  column = []\n",
        "  for row in range(r):\n",
        "    column.append(grid[row][col])\n",
        "  columns.append(column)\n",
        "\n",
        "for each_column in columns:\n",
        "  number_of_integers_in_each_column = len(each_column)\n",
        "\n",
        "for s in range(number_of_integers_in_each_column - 1):\n",
        "  if each_column[s] + 1 == each_column[s + 1]:\n",
        "    number_of_consecutive_integers += 1\n",
        "  elif each_column[s] -1 == each_column[s - 1]:\n",
        "    number_of_consecutive_integers += 1\n",
        "print(f'Total occurrences of three consecutive integers is {number_of_consecutive_integers}')\n",
        "\n",
        "\n"
      ]
    },
    {
      "cell_type": "markdown",
      "metadata": {
        "id": "mY9YtOSmz6nK"
      },
      "source": [
        "Test your program using the square grid below\n",
        "```python\n",
        "[6, 1, 9, 8, 4]\n",
        "[5, 1, 8, 7, 6]\n",
        "[4, 8, 7, 2, 1]\n",
        "[5, 6, 6, 5, 2]\n",
        "[7, 0, 1, 2, 0]\n",
        "```"
      ]
    }
  ],
  "metadata": {
    "kernelspec": {
      "display_name": "Python 3",
      "language": "python",
      "name": "python3"
    },
    "language_info": {
      "codemirror_mode": {
        "name": "ipython",
        "version": 3
      },
      "file_extension": ".py",
      "mimetype": "text/x-python",
      "name": "python",
      "nbconvert_exporter": "python",
      "pygments_lexer": "ipython3",
      "version": "3.11.3"
    },
    "colab": {
      "provenance": []
    }
  },
  "nbformat": 4,
  "nbformat_minor": 0
}