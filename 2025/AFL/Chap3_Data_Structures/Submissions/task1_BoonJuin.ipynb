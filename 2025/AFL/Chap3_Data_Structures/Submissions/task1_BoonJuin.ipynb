{
 "cells": [
  {
   "cell_type": "code",
   "execution_count": 1,
   "metadata": {},
   "outputs": [
    {
     "name": "stdout",
     "output_type": "stream",
     "text": [
      "5\n"
     ]
    }
   ],
   "source": [
    "n_lists = [[6, 1, 9, 8, 4],[5, 1, 8, 7, 6],[4, 8, 7, 2, 1],[5, 6, 6, 5, 2],[7, 0, 1, 2, 0]]\n",
    "occ = 0\n",
    "list= 0\n",
    "for num in range (0,5):\n",
    "  for list in range(5):\n",
    "   try: \n",
    "      if n_lists[list][num-1] == n_lists[list][num]+1:\n",
    "       if n_lists[list][num-2] == n_lists[list][num-1]+1:\n",
    "        occ += 1\n",
    "      elif n_lists[list][num-1] == n_lists[list][num]-1:\n",
    "       if n_lists[list][num-2] == n_lists[list][num-1]-1:\n",
    "        occ+=1\n",
    "      elif n_lists[list][num+1] == n_lists[list][num]+1:\n",
    "       if n_lists[list][num+2] == n_lists[list][num+1]+1:\n",
    "        occ += 1\n",
    "      elif n_lists[list][num+1] == n_lists[list][num]-1:\n",
    "       if n_lists[list][num+1] == n_lists[list][num+1]-1:\n",
    "        occ+=1\n",
    "      elif n_lists[list-1][num] == n_lists[list][num]+1:\n",
    "       if n_lists[list-2][num] == n_lists[list-1][num]+1:\n",
    "        occ += 1\n",
    "      elif n_lists[list-1][num] == n_lists[list][num]-1:\n",
    "       if n_lists[list-2][num] == n_lists[list-1][num]-1:\n",
    "        occ+=1\n",
    "      elif n_lists[list][num] > n_lists[list][num]+1:\n",
    "       if n_lists[list+2][num] == n_lists[list+1][num]+1:\n",
    "        occ += 1\n",
    "      elif n_lists[list+1][num] == n_lists[list][num]-1:\n",
    "       if n_lists[list+2][num] == n_lists[list+1][num]-1:\n",
    "        occ+=1\n",
    "   except:\n",
    "    continue\n",
    "print(occ)"
   ]
  }
 ],
 "metadata": {
  "kernelspec": {
   "display_name": "Python 3",
   "language": "python",
   "name": "python3"
  },
  "language_info": {
   "codemirror_mode": {
    "name": "ipython",
    "version": 3
   },
   "file_extension": ".py",
   "mimetype": "text/x-python",
   "name": "python",
   "nbconvert_exporter": "python",
   "pygments_lexer": "ipython3",
   "version": "3.13.2"
  }
 },
 "nbformat": 4,
 "nbformat_minor": 2
}
